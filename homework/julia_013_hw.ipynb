{
 "cells": [
  {
   "cell_type": "markdown",
   "metadata": {},
   "source": [
    "## Day 013 作業1：用 Julia 標準函式寫 Sigmoid Function\n",
    "\n",
    "在 Day 002 時我們曾用 LaTeX 撰寫機器學習常見的激活函式 Sigmoid\n",
    "\n",
    "$\\Large f(x)=\\frac{1}{1+e^{-x}}$\n",
    "\n",
    "作業 1 請使用內建函式 `exp()` 來撰寫 Sigmoid 函式，計算矩陣的 sigmoid 值。"
   ]
  },
  {
   "cell_type": "markdown",
   "metadata": {},
   "source": [
    "例如：數字 3 的 sigmoid 值。"
   ]
  },
  {
   "cell_type": "code",
   "execution_count": 1,
   "metadata": {},
   "outputs": [
    {
     "data": {
      "text/plain": [
       "0.9525741268224334"
      ]
     },
     "execution_count": 1,
     "metadata": {},
     "output_type": "execute_result"
    }
   ],
   "source": [
    "1 / (1 + exp(-3))"
   ]
  },
  {
   "cell_type": "markdown",
   "metadata": {},
   "source": [
    "宣告及建立矩陣"
   ]
  },
  {
   "cell_type": "code",
   "execution_count": 2,
   "metadata": {},
   "outputs": [
    {
     "data": {
      "text/plain": [
       "3×5 Array{Int64,2}:\n",
       " 1  10  3  4   6\n",
       " 4   2  4  5  10\n",
       " 8   5  3  5   9"
      ]
     },
     "execution_count": 2,
     "metadata": {},
     "output_type": "execute_result"
    }
   ],
   "source": [
    "A = Matrix([1 10 3 4 6; 4 2 4 5 10; 8 5 3 5 9])"
   ]
  },
  {
   "cell_type": "code",
   "execution_count": null,
   "metadata": {},
   "outputs": [],
   "source": [
    "# 請在此撰寫計算 sigmoid\n",
    "function sigmoid(x)\n",
    "    1 / (1 + exp(-x))\n",
    "end"
   ]
  },
  {
   "cell_type": "code",
   "execution_count": 12,
   "metadata": {},
   "outputs": [
    {
     "ename": "LoadError",
     "evalue": "syntax: unexpected \")\"",
     "output_type": "error",
     "traceback": [
      "syntax: unexpected \")\"",
      ""
     ]
    }
   ],
   "source": [
    "sigmoid(A)"
   ]
  },
  {
   "cell_type": "markdown",
   "metadata": {},
   "source": [
    "## 作業2：線性代數基礎運算 Matrix Multiplication 及 Addition\n",
    "\n",
    "假設 A 是 $n\\times m$ 的矩陣，B 是 $m\\times p$ 的矩陣，則矩陣乘法的積 AB 是 $\\displaystyle n\\times p$ 的矩陣。\n",
    "\n",
    "作業2 請撰寫程式，隨機產生矩陣 $W$ 及 $X$，計算線性方程式 $WX+b$。\n",
    "\n",
    "【提示】點運算的介紹，可回顧 Day 005 內容及範例。"
   ]
  },
  {
   "cell_type": "code",
   "execution_count": 25,
   "metadata": {},
   "outputs": [
    {
     "data": {
      "text/plain": [
       "1"
      ]
     },
     "execution_count": 25,
     "metadata": {},
     "output_type": "execute_result"
    }
   ],
   "source": [
    "# 給定 bias 變數值\n",
    "# 這邊給定的是純量，在矩陣加法中透過 broadcasting 進行加法\n",
    "b = 1"
   ]
  },
  {
   "cell_type": "code",
   "execution_count": 26,
   "metadata": {},
   "outputs": [
    {
     "data": {
      "text/plain": [
       "3×2 Array{Float64,2}:\n",
       " 0.43709   0.346573\n",
       " 0.394671  0.47118\n",
       " 0.123069  0.337817"
      ]
     },
     "execution_count": 26,
     "metadata": {},
     "output_type": "execute_result"
    }
   ],
   "source": [
    "W = rand(3, 2) # 請在此撰寫程式"
   ]
  },
  {
   "cell_type": "code",
   "execution_count": 27,
   "metadata": {},
   "outputs": [
    {
     "data": {
      "text/plain": [
       "2×5 Array{Float64,2}:\n",
       " 0.737071  0.245988  0.412359  0.422007  0.150424\n",
       " 0.536098  0.737463  0.633351  0.413425  0.5566"
      ]
     },
     "execution_count": 27,
     "metadata": {},
     "output_type": "execute_result"
    }
   ],
   "source": [
    "X = rand(2, 5) # 請在此撰寫程式"
   ]
  },
  {
   "cell_type": "code",
   "execution_count": 31,
   "metadata": {},
   "outputs": [
    {
     "data": {
      "text/plain": [
       "3×5 Array{Float64,2}:\n",
       " 1.50796  1.3631   1.39974  1.32774  1.25865\n",
       " 1.5435   1.44456  1.46117  1.36135  1.32163\n",
       " 1.27181  1.2794   1.26471  1.1916   1.20654"
      ]
     },
     "execution_count": 31,
     "metadata": {},
     "output_type": "execute_result"
    }
   ],
   "source": [
    "# 請在此撰寫計算線性方程式\n",
    "W * X .+ b"
   ]
  },
  {
   "cell_type": "code",
   "execution_count": null,
   "metadata": {},
   "outputs": [],
   "source": []
  }
 ],
 "metadata": {
  "kernelspec": {
   "display_name": "Julia 1.4.0",
   "language": "julia",
   "name": "julia-1.4"
  },
  "language_info": {
   "file_extension": ".jl",
   "mimetype": "application/julia",
   "name": "julia",
   "version": "1.4.0"
  }
 },
 "nbformat": 4,
 "nbformat_minor": 4
}
