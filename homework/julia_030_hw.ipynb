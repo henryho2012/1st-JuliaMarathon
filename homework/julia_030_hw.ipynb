{
 "cells": [
  {
   "cell_type": "markdown",
   "metadata": {},
   "source": [
    "# Julia 機器學習：DecisionTree 決策樹\n",
    "\n",
    "## 作業 030：乳癌預測資料集\n",
    "\n",
    "請使用隨機森林模型建立一個分類模型，來預測乳癌資料集中，為良性或是惡性的腫瘤。"
   ]
  },
  {
   "cell_type": "code",
   "execution_count": 1,
   "metadata": {},
   "outputs": [],
   "source": [
    "using DecisionTree, RDatasets, DataFrames, MLDataUtils, Statistics"
   ]
  },
  {
   "cell_type": "markdown",
   "metadata": {},
   "source": [
    "## 讀取資料"
   ]
  },
  {
   "cell_type": "code",
   "execution_count": 2,
   "metadata": {},
   "outputs": [
    {
     "data": {
      "text/html": [
       "<table class=\"data-frame\"><thead><tr><th></th><th>ID</th><th>V1</th><th>V2</th><th>V3</th><th>V4</th><th>V5</th><th>V6</th><th>V7</th><th>V8</th><th>V9</th><th>Class</th></tr><tr><th></th><th>String</th><th>Int32</th><th>Int32</th><th>Int32</th><th>Int32</th><th>Int32</th><th>Int32⍰</th><th>Int32</th><th>Int32</th><th>Int32</th><th>Categorical…</th></tr></thead><tbody><p>699 rows × 11 columns</p><tr><th>1</th><td>1000025</td><td>5</td><td>1</td><td>1</td><td>1</td><td>2</td><td>1</td><td>3</td><td>1</td><td>1</td><td>benign</td></tr><tr><th>2</th><td>1002945</td><td>5</td><td>4</td><td>4</td><td>5</td><td>7</td><td>10</td><td>3</td><td>2</td><td>1</td><td>benign</td></tr><tr><th>3</th><td>1015425</td><td>3</td><td>1</td><td>1</td><td>1</td><td>2</td><td>2</td><td>3</td><td>1</td><td>1</td><td>benign</td></tr><tr><th>4</th><td>1016277</td><td>6</td><td>8</td><td>8</td><td>1</td><td>3</td><td>4</td><td>3</td><td>7</td><td>1</td><td>benign</td></tr><tr><th>5</th><td>1017023</td><td>4</td><td>1</td><td>1</td><td>3</td><td>2</td><td>1</td><td>3</td><td>1</td><td>1</td><td>benign</td></tr><tr><th>6</th><td>1017122</td><td>8</td><td>10</td><td>10</td><td>8</td><td>7</td><td>10</td><td>9</td><td>7</td><td>1</td><td>malignant</td></tr><tr><th>7</th><td>1018099</td><td>1</td><td>1</td><td>1</td><td>1</td><td>2</td><td>10</td><td>3</td><td>1</td><td>1</td><td>benign</td></tr><tr><th>8</th><td>1018561</td><td>2</td><td>1</td><td>2</td><td>1</td><td>2</td><td>1</td><td>3</td><td>1</td><td>1</td><td>benign</td></tr><tr><th>9</th><td>1033078</td><td>2</td><td>1</td><td>1</td><td>1</td><td>2</td><td>1</td><td>1</td><td>1</td><td>5</td><td>benign</td></tr><tr><th>10</th><td>1033078</td><td>4</td><td>2</td><td>1</td><td>1</td><td>2</td><td>1</td><td>2</td><td>1</td><td>1</td><td>benign</td></tr><tr><th>11</th><td>1035283</td><td>1</td><td>1</td><td>1</td><td>1</td><td>1</td><td>1</td><td>3</td><td>1</td><td>1</td><td>benign</td></tr><tr><th>12</th><td>1036172</td><td>2</td><td>1</td><td>1</td><td>1</td><td>2</td><td>1</td><td>2</td><td>1</td><td>1</td><td>benign</td></tr><tr><th>13</th><td>1041801</td><td>5</td><td>3</td><td>3</td><td>3</td><td>2</td><td>3</td><td>4</td><td>4</td><td>1</td><td>malignant</td></tr><tr><th>14</th><td>1043999</td><td>1</td><td>1</td><td>1</td><td>1</td><td>2</td><td>3</td><td>3</td><td>1</td><td>1</td><td>benign</td></tr><tr><th>15</th><td>1044572</td><td>8</td><td>7</td><td>5</td><td>10</td><td>7</td><td>9</td><td>5</td><td>5</td><td>4</td><td>malignant</td></tr><tr><th>16</th><td>1047630</td><td>7</td><td>4</td><td>6</td><td>4</td><td>6</td><td>1</td><td>4</td><td>3</td><td>1</td><td>malignant</td></tr><tr><th>17</th><td>1048672</td><td>4</td><td>1</td><td>1</td><td>1</td><td>2</td><td>1</td><td>2</td><td>1</td><td>1</td><td>benign</td></tr><tr><th>18</th><td>1049815</td><td>4</td><td>1</td><td>1</td><td>1</td><td>2</td><td>1</td><td>3</td><td>1</td><td>1</td><td>benign</td></tr><tr><th>19</th><td>1050670</td><td>10</td><td>7</td><td>7</td><td>6</td><td>4</td><td>10</td><td>4</td><td>1</td><td>2</td><td>malignant</td></tr><tr><th>20</th><td>1050718</td><td>6</td><td>1</td><td>1</td><td>1</td><td>2</td><td>1</td><td>3</td><td>1</td><td>1</td><td>benign</td></tr><tr><th>21</th><td>1054590</td><td>7</td><td>3</td><td>2</td><td>10</td><td>5</td><td>10</td><td>5</td><td>4</td><td>4</td><td>malignant</td></tr><tr><th>22</th><td>1054593</td><td>10</td><td>5</td><td>5</td><td>3</td><td>6</td><td>7</td><td>7</td><td>10</td><td>1</td><td>malignant</td></tr><tr><th>23</th><td>1056784</td><td>3</td><td>1</td><td>1</td><td>1</td><td>2</td><td>1</td><td>2</td><td>1</td><td>1</td><td>benign</td></tr><tr><th>24</th><td>1057013</td><td>8</td><td>4</td><td>5</td><td>1</td><td>2</td><td>missing</td><td>7</td><td>3</td><td>1</td><td>malignant</td></tr><tr><th>25</th><td>1059552</td><td>1</td><td>1</td><td>1</td><td>1</td><td>2</td><td>1</td><td>3</td><td>1</td><td>1</td><td>benign</td></tr><tr><th>26</th><td>1065726</td><td>5</td><td>2</td><td>3</td><td>4</td><td>2</td><td>7</td><td>3</td><td>6</td><td>1</td><td>malignant</td></tr><tr><th>27</th><td>1066373</td><td>3</td><td>2</td><td>1</td><td>1</td><td>1</td><td>1</td><td>2</td><td>1</td><td>1</td><td>benign</td></tr><tr><th>28</th><td>1066979</td><td>5</td><td>1</td><td>1</td><td>1</td><td>2</td><td>1</td><td>2</td><td>1</td><td>1</td><td>benign</td></tr><tr><th>29</th><td>1067444</td><td>2</td><td>1</td><td>1</td><td>1</td><td>2</td><td>1</td><td>2</td><td>1</td><td>1</td><td>benign</td></tr><tr><th>30</th><td>1070935</td><td>1</td><td>1</td><td>3</td><td>1</td><td>2</td><td>1</td><td>1</td><td>1</td><td>1</td><td>benign</td></tr><tr><th>&vellip;</th><td>&vellip;</td><td>&vellip;</td><td>&vellip;</td><td>&vellip;</td><td>&vellip;</td><td>&vellip;</td><td>&vellip;</td><td>&vellip;</td><td>&vellip;</td><td>&vellip;</td><td>&vellip;</td></tr></tbody></table>"
      ],
      "text/latex": [
       "\\begin{tabular}{r|ccccccccccc}\n",
       "\t& ID & V1 & V2 & V3 & V4 & V5 & V6 & V7 & V8 & V9 & Class\\\\\n",
       "\t\\hline\n",
       "\t& String & Int32 & Int32 & Int32 & Int32 & Int32 & Int32⍰ & Int32 & Int32 & Int32 & Categorical…\\\\\n",
       "\t\\hline\n",
       "\t1 & 1000025 & 5 & 1 & 1 & 1 & 2 & 1 & 3 & 1 & 1 & benign \\\\\n",
       "\t2 & 1002945 & 5 & 4 & 4 & 5 & 7 & 10 & 3 & 2 & 1 & benign \\\\\n",
       "\t3 & 1015425 & 3 & 1 & 1 & 1 & 2 & 2 & 3 & 1 & 1 & benign \\\\\n",
       "\t4 & 1016277 & 6 & 8 & 8 & 1 & 3 & 4 & 3 & 7 & 1 & benign \\\\\n",
       "\t5 & 1017023 & 4 & 1 & 1 & 3 & 2 & 1 & 3 & 1 & 1 & benign \\\\\n",
       "\t6 & 1017122 & 8 & 10 & 10 & 8 & 7 & 10 & 9 & 7 & 1 & malignant \\\\\n",
       "\t7 & 1018099 & 1 & 1 & 1 & 1 & 2 & 10 & 3 & 1 & 1 & benign \\\\\n",
       "\t8 & 1018561 & 2 & 1 & 2 & 1 & 2 & 1 & 3 & 1 & 1 & benign \\\\\n",
       "\t9 & 1033078 & 2 & 1 & 1 & 1 & 2 & 1 & 1 & 1 & 5 & benign \\\\\n",
       "\t10 & 1033078 & 4 & 2 & 1 & 1 & 2 & 1 & 2 & 1 & 1 & benign \\\\\n",
       "\t11 & 1035283 & 1 & 1 & 1 & 1 & 1 & 1 & 3 & 1 & 1 & benign \\\\\n",
       "\t12 & 1036172 & 2 & 1 & 1 & 1 & 2 & 1 & 2 & 1 & 1 & benign \\\\\n",
       "\t13 & 1041801 & 5 & 3 & 3 & 3 & 2 & 3 & 4 & 4 & 1 & malignant \\\\\n",
       "\t14 & 1043999 & 1 & 1 & 1 & 1 & 2 & 3 & 3 & 1 & 1 & benign \\\\\n",
       "\t15 & 1044572 & 8 & 7 & 5 & 10 & 7 & 9 & 5 & 5 & 4 & malignant \\\\\n",
       "\t16 & 1047630 & 7 & 4 & 6 & 4 & 6 & 1 & 4 & 3 & 1 & malignant \\\\\n",
       "\t17 & 1048672 & 4 & 1 & 1 & 1 & 2 & 1 & 2 & 1 & 1 & benign \\\\\n",
       "\t18 & 1049815 & 4 & 1 & 1 & 1 & 2 & 1 & 3 & 1 & 1 & benign \\\\\n",
       "\t19 & 1050670 & 10 & 7 & 7 & 6 & 4 & 10 & 4 & 1 & 2 & malignant \\\\\n",
       "\t20 & 1050718 & 6 & 1 & 1 & 1 & 2 & 1 & 3 & 1 & 1 & benign \\\\\n",
       "\t21 & 1054590 & 7 & 3 & 2 & 10 & 5 & 10 & 5 & 4 & 4 & malignant \\\\\n",
       "\t22 & 1054593 & 10 & 5 & 5 & 3 & 6 & 7 & 7 & 10 & 1 & malignant \\\\\n",
       "\t23 & 1056784 & 3 & 1 & 1 & 1 & 2 & 1 & 2 & 1 & 1 & benign \\\\\n",
       "\t24 & 1057013 & 8 & 4 & 5 & 1 & 2 &  & 7 & 3 & 1 & malignant \\\\\n",
       "\t25 & 1059552 & 1 & 1 & 1 & 1 & 2 & 1 & 3 & 1 & 1 & benign \\\\\n",
       "\t26 & 1065726 & 5 & 2 & 3 & 4 & 2 & 7 & 3 & 6 & 1 & malignant \\\\\n",
       "\t27 & 1066373 & 3 & 2 & 1 & 1 & 1 & 1 & 2 & 1 & 1 & benign \\\\\n",
       "\t28 & 1066979 & 5 & 1 & 1 & 1 & 2 & 1 & 2 & 1 & 1 & benign \\\\\n",
       "\t29 & 1067444 & 2 & 1 & 1 & 1 & 2 & 1 & 2 & 1 & 1 & benign \\\\\n",
       "\t30 & 1070935 & 1 & 1 & 3 & 1 & 2 & 1 & 1 & 1 & 1 & benign \\\\\n",
       "\t$\\dots$ & $\\dots$ & $\\dots$ & $\\dots$ & $\\dots$ & $\\dots$ & $\\dots$ & $\\dots$ & $\\dots$ & $\\dots$ & $\\dots$ & $\\dots$ \\\\\n",
       "\\end{tabular}\n"
      ],
      "text/plain": [
       "699×11 DataFrame. Omitted printing of 3 columns\n",
       "│ Row │ ID      │ V1    │ V2    │ V3    │ V4    │ V5    │ V6     │ V7    │\n",
       "│     │ \u001b[90mString\u001b[39m  │ \u001b[90mInt32\u001b[39m │ \u001b[90mInt32\u001b[39m │ \u001b[90mInt32\u001b[39m │ \u001b[90mInt32\u001b[39m │ \u001b[90mInt32\u001b[39m │ \u001b[90mInt32⍰\u001b[39m │ \u001b[90mInt32\u001b[39m │\n",
       "├─────┼─────────┼───────┼───────┼───────┼───────┼───────┼────────┼───────┤\n",
       "│ 1   │ 1000025 │ 5     │ 1     │ 1     │ 1     │ 2     │ 1      │ 3     │\n",
       "│ 2   │ 1002945 │ 5     │ 4     │ 4     │ 5     │ 7     │ 10     │ 3     │\n",
       "│ 3   │ 1015425 │ 3     │ 1     │ 1     │ 1     │ 2     │ 2      │ 3     │\n",
       "│ 4   │ 1016277 │ 6     │ 8     │ 8     │ 1     │ 3     │ 4      │ 3     │\n",
       "│ 5   │ 1017023 │ 4     │ 1     │ 1     │ 3     │ 2     │ 1      │ 3     │\n",
       "│ 6   │ 1017122 │ 8     │ 10    │ 10    │ 8     │ 7     │ 10     │ 9     │\n",
       "│ 7   │ 1018099 │ 1     │ 1     │ 1     │ 1     │ 2     │ 10     │ 3     │\n",
       "│ 8   │ 1018561 │ 2     │ 1     │ 2     │ 1     │ 2     │ 1      │ 3     │\n",
       "│ 9   │ 1033078 │ 2     │ 1     │ 1     │ 1     │ 2     │ 1      │ 1     │\n",
       "│ 10  │ 1033078 │ 4     │ 2     │ 1     │ 1     │ 2     │ 1      │ 2     │\n",
       "⋮\n",
       "│ 689 │ 603148  │ 4     │ 1     │ 1     │ 1     │ 2     │ 1      │ 1     │\n",
       "│ 690 │ 654546  │ 1     │ 1     │ 1     │ 1     │ 2     │ 1      │ 1     │\n",
       "│ 691 │ 654546  │ 1     │ 1     │ 1     │ 3     │ 2     │ 1      │ 1     │\n",
       "│ 692 │ 695091  │ 5     │ 10    │ 10    │ 5     │ 4     │ 5      │ 4     │\n",
       "│ 693 │ 714039  │ 3     │ 1     │ 1     │ 1     │ 2     │ 1      │ 1     │\n",
       "│ 694 │ 763235  │ 3     │ 1     │ 1     │ 1     │ 2     │ 1      │ 2     │\n",
       "│ 695 │ 776715  │ 3     │ 1     │ 1     │ 1     │ 3     │ 2      │ 1     │\n",
       "│ 696 │ 841769  │ 2     │ 1     │ 1     │ 1     │ 2     │ 1      │ 1     │\n",
       "│ 697 │ 888820  │ 5     │ 10    │ 10    │ 3     │ 7     │ 3      │ 8     │\n",
       "│ 698 │ 897471  │ 4     │ 8     │ 6     │ 4     │ 3     │ 4      │ 10    │\n",
       "│ 699 │ 897471  │ 4     │ 8     │ 8     │ 5     │ 4     │ 5      │ 10    │"
      ]
     },
     "execution_count": 2,
     "metadata": {},
     "output_type": "execute_result"
    }
   ],
   "source": [
    "biopsy = dataset(\"MASS\", \"biopsy\")"
   ]
  },
  {
   "cell_type": "code",
   "execution_count": 4,
   "metadata": {},
   "outputs": [
    {
     "data": {
      "text/html": [
       "<table class=\"data-frame\"><thead><tr><th></th><th>Class</th></tr><tr><th></th><th>Categorical…</th></tr></thead><tbody><p>699 rows × 1 columns</p><tr><th>1</th><td>benign</td></tr><tr><th>2</th><td>benign</td></tr><tr><th>3</th><td>benign</td></tr><tr><th>4</th><td>benign</td></tr><tr><th>5</th><td>benign</td></tr><tr><th>6</th><td>malignant</td></tr><tr><th>7</th><td>benign</td></tr><tr><th>8</th><td>benign</td></tr><tr><th>9</th><td>benign</td></tr><tr><th>10</th><td>benign</td></tr><tr><th>11</th><td>benign</td></tr><tr><th>12</th><td>benign</td></tr><tr><th>13</th><td>malignant</td></tr><tr><th>14</th><td>benign</td></tr><tr><th>15</th><td>malignant</td></tr><tr><th>16</th><td>malignant</td></tr><tr><th>17</th><td>benign</td></tr><tr><th>18</th><td>benign</td></tr><tr><th>19</th><td>malignant</td></tr><tr><th>20</th><td>benign</td></tr><tr><th>21</th><td>malignant</td></tr><tr><th>22</th><td>malignant</td></tr><tr><th>23</th><td>benign</td></tr><tr><th>24</th><td>malignant</td></tr><tr><th>25</th><td>benign</td></tr><tr><th>26</th><td>malignant</td></tr><tr><th>27</th><td>benign</td></tr><tr><th>28</th><td>benign</td></tr><tr><th>29</th><td>benign</td></tr><tr><th>30</th><td>benign</td></tr><tr><th>&vellip;</th><td>&vellip;</td></tr></tbody></table>"
      ],
      "text/latex": [
       "\\begin{tabular}{r|c}\n",
       "\t& Class\\\\\n",
       "\t\\hline\n",
       "\t& Categorical…\\\\\n",
       "\t\\hline\n",
       "\t1 & benign \\\\\n",
       "\t2 & benign \\\\\n",
       "\t3 & benign \\\\\n",
       "\t4 & benign \\\\\n",
       "\t5 & benign \\\\\n",
       "\t6 & malignant \\\\\n",
       "\t7 & benign \\\\\n",
       "\t8 & benign \\\\\n",
       "\t9 & benign \\\\\n",
       "\t10 & benign \\\\\n",
       "\t11 & benign \\\\\n",
       "\t12 & benign \\\\\n",
       "\t13 & malignant \\\\\n",
       "\t14 & benign \\\\\n",
       "\t15 & malignant \\\\\n",
       "\t16 & malignant \\\\\n",
       "\t17 & benign \\\\\n",
       "\t18 & benign \\\\\n",
       "\t19 & malignant \\\\\n",
       "\t20 & benign \\\\\n",
       "\t21 & malignant \\\\\n",
       "\t22 & malignant \\\\\n",
       "\t23 & benign \\\\\n",
       "\t24 & malignant \\\\\n",
       "\t25 & benign \\\\\n",
       "\t26 & malignant \\\\\n",
       "\t27 & benign \\\\\n",
       "\t28 & benign \\\\\n",
       "\t29 & benign \\\\\n",
       "\t30 & benign \\\\\n",
       "\t$\\dots$ & $\\dots$ \\\\\n",
       "\\end{tabular}\n"
      ],
      "text/plain": [
       "699×1 DataFrame\n",
       "│ Row │ Class        │\n",
       "│     │ \u001b[90mCategorical…\u001b[39m │\n",
       "├─────┼──────────────┤\n",
       "│ 1   │ benign       │\n",
       "│ 2   │ benign       │\n",
       "│ 3   │ benign       │\n",
       "│ 4   │ benign       │\n",
       "│ 5   │ benign       │\n",
       "│ 6   │ malignant    │\n",
       "│ 7   │ benign       │\n",
       "│ 8   │ benign       │\n",
       "│ 9   │ benign       │\n",
       "│ 10  │ benign       │\n",
       "⋮\n",
       "│ 689 │ benign       │\n",
       "│ 690 │ benign       │\n",
       "│ 691 │ benign       │\n",
       "│ 692 │ malignant    │\n",
       "│ 693 │ benign       │\n",
       "│ 694 │ benign       │\n",
       "│ 695 │ benign       │\n",
       "│ 696 │ benign       │\n",
       "│ 697 │ malignant    │\n",
       "│ 698 │ malignant    │\n",
       "│ 699 │ malignant    │"
      ]
     },
     "execution_count": 4,
     "metadata": {},
     "output_type": "execute_result"
    }
   ],
   "source": [
    "features = biopsy[:, 2:10]\n",
    "labels = biopsy[:, 11:11]"
   ]
  },
  {
   "cell_type": "code",
   "execution_count": 5,
   "metadata": {},
   "outputs": [
    {
     "data": {
      "text/plain": [
       "DecisionTreeClassifier\n",
       "max_depth:                2\n",
       "min_samples_leaf:         1\n",
       "min_samples_split:        2\n",
       "min_purity_increase:      0.0\n",
       "pruning_purity_threshold: 1.0\n",
       "n_subfeatures:            0\n",
       "classes:                  nothing\n",
       "root:                     nothing"
      ]
     },
     "execution_count": 5,
     "metadata": {},
     "output_type": "execute_result"
    }
   ],
   "source": [
    "model = DecisionTree.DecisionTreeClassifier(max_depth=2)"
   ]
  },
  {
   "cell_type": "code",
   "execution_count": 9,
   "metadata": {},
   "outputs": [
    {
     "ename": "MethodError",
     "evalue": "MethodError: no method matching Int64(::Missing)\nClosest candidates are:\n  Int64(!Matched::Union{Bool, Int32, Int64, UInt32, UInt64, UInt8, Int128, Int16, Int8, UInt128, UInt16}) at boot.jl:707\n  Int64(!Matched::Ptr) at boot.jl:717\n  Int64(!Matched::Float32) at float.jl:707\n  ...",
     "output_type": "error",
     "traceback": [
      "MethodError: no method matching Int64(::Missing)\nClosest candidates are:\n  Int64(!Matched::Union{Bool, Int32, Int64, UInt32, UInt64, UInt8, Int128, Int16, Int8, UInt128, UInt16}) at boot.jl:707\n  Int64(!Matched::Ptr) at boot.jl:717\n  Int64(!Matched::Float32) at float.jl:707\n  ...",
      "",
      "Stacktrace:",
      " [1] _broadcast_getindex_evalf at .\\broadcast.jl:631 [inlined]",
      " [2] _broadcast_getindex at .\\broadcast.jl:604 [inlined]",
      " [3] getindex at .\\broadcast.jl:564 [inlined]",
      " [4] copyto_widen!(::Array{Int64,1}, ::Base.Broadcast.Broadcasted{DataFrames.DataFrameStyle,Tuple{Base.OneTo{Int64},Base.OneTo{Int64}},Type{Int64},Tuple{Base.Broadcast.Extruded{Array{Union{Missing, Float64},1},Tuple{Bool},Tuple{Int64}}}}, ::Int64, ::Int64) at C:\\Users\\User\\.julia\\packages\\DataFrames\\S3ZFo\\src\\other\\broadcasting.jl:22",
      " [5] copy(::Base.Broadcast.Broadcasted{DataFrames.DataFrameStyle,Tuple{Base.OneTo{Int64},Base.OneTo{Int64}},Type{Int64},Tuple{DataFrame}}) at C:\\Users\\User\\.julia\\packages\\DataFrames\\S3ZFo\\src\\other\\broadcasting.jl:72",
      " [6] materialize(::Base.Broadcast.Broadcasted{DataFrames.DataFrameStyle,Nothing,Type{Int64},Tuple{DataFrame}}) at .\\broadcast.jl:820",
      " [7] top-level scope at In[9]:1"
     ]
    }
   ],
   "source": [
    "features = Int64.(features)\n",
    "labels = string.(labels)"
   ]
  },
  {
   "cell_type": "code",
   "execution_count": 8,
   "metadata": {},
   "outputs": [
    {
     "ename": "MethodError",
     "evalue": "MethodError: no method matching build_tree(::DataFrame, ::DataFrame, ::Int64, ::Int64, ::Int64, ::Int64, ::Float64; rng=Random._GLOBAL_RNG())\nClosest candidates are:\n  build_tree(!Matched::Array{T,1}, !Matched::Array{S,2}, ::Any, ::Any, ::Any, ::Any, ::Any; rng) where {S, T<:Float64} at C:\\Users\\User\\.julia\\packages\\DecisionTree\\gJ95y\\src\\regression\\main.jl:27\n  build_tree(!Matched::Array{T,1}, !Matched::Array{S,2}, ::Any, ::Any, ::Any, ::Any, ::Any; loss, rng) where {S, T} at C:\\Users\\User\\.julia\\packages\\DecisionTree\\gJ95y\\src\\classification\\main.jl:85\n  build_tree(!Matched::Array{T,1}, !Matched::Array{S,2}, ::Any, ::Any, ::Any, ::Any) where {S, T<:Float64} at C:\\Users\\User\\.julia\\packages\\DecisionTree\\gJ95y\\src\\regression\\main.jl:27 got unsupported keyword argument \"rng\"\n  ...",
     "output_type": "error",
     "traceback": [
      "MethodError: no method matching build_tree(::DataFrame, ::DataFrame, ::Int64, ::Int64, ::Int64, ::Int64, ::Float64; rng=Random._GLOBAL_RNG())\nClosest candidates are:\n  build_tree(!Matched::Array{T,1}, !Matched::Array{S,2}, ::Any, ::Any, ::Any, ::Any, ::Any; rng) where {S, T<:Float64} at C:\\Users\\User\\.julia\\packages\\DecisionTree\\gJ95y\\src\\regression\\main.jl:27\n  build_tree(!Matched::Array{T,1}, !Matched::Array{S,2}, ::Any, ::Any, ::Any, ::Any, ::Any; loss, rng) where {S, T} at C:\\Users\\User\\.julia\\packages\\DecisionTree\\gJ95y\\src\\classification\\main.jl:85\n  build_tree(!Matched::Array{T,1}, !Matched::Array{S,2}, ::Any, ::Any, ::Any, ::Any) where {S, T<:Float64} at C:\\Users\\User\\.julia\\packages\\DecisionTree\\gJ95y\\src\\regression\\main.jl:27 got unsupported keyword argument \"rng\"\n  ...",
      "",
      "Stacktrace:",
      " [1] fit!(::DecisionTreeClassifier, ::DataFrame, ::DataFrame) at C:\\Users\\User\\.julia\\packages\\DecisionTree\\gJ95y\\src\\scikitlearnAPI.jl:54",
      " [2] top-level scope at In[8]:1"
     ]
    }
   ],
   "source": [
    "DecisionTree.fit!(model, features, labels)"
   ]
  },
  {
   "cell_type": "code",
   "execution_count": null,
   "metadata": {},
   "outputs": [],
   "source": []
  }
 ],
 "metadata": {
  "kernelspec": {
   "display_name": "Julia 1.4.0",
   "language": "julia",
   "name": "julia-1.4"
  },
  "language_info": {
   "file_extension": ".jl",
   "mimetype": "application/julia",
   "name": "julia",
   "version": "1.4.0"
  }
 },
 "nbformat": 4,
 "nbformat_minor": 4
}
