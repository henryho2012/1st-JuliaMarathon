{
 "cells": [
  {
   "cell_type": "markdown",
   "metadata": {},
   "source": [
    "# Julia 機器學習：GLM 線性迴歸\n",
    "\n",
    "## 作業 027：波士頓房價預測資料集\n",
    "\n",
    "請使用 GLM 中的模型，建立一個預測模型來預測波士頓的房價。"
   ]
  },
  {
   "cell_type": "code",
   "execution_count": 1,
   "metadata": {},
   "outputs": [],
   "source": [
    "using GLM, RDatasets, MLDataUtils"
   ]
  },
  {
   "cell_type": "markdown",
   "metadata": {},
   "source": [
    "## 讀取資料"
   ]
  },
  {
   "cell_type": "code",
   "execution_count": 2,
   "metadata": {},
   "outputs": [
    {
     "data": {
      "text/html": [
       "<table class=\"data-frame\"><thead><tr><th></th><th>Crim</th><th>Zn</th><th>Indus</th><th>Chas</th><th>NOx</th><th>Rm</th><th>Age</th><th>Dis</th><th>Rad</th><th>Tax</th></tr><tr><th></th><th>Float64</th><th>Float64</th><th>Float64</th><th>Int64</th><th>Float64</th><th>Float64</th><th>Float64</th><th>Float64</th><th>Int64</th><th>Int64</th></tr></thead><tbody><p>10 rows × 14 columns (omitted printing of 4 columns)</p><tr><th>1</th><td>0.00632</td><td>18.0</td><td>2.31</td><td>0</td><td>0.538</td><td>6.575</td><td>65.2</td><td>4.09</td><td>1</td><td>296</td></tr><tr><th>2</th><td>0.02731</td><td>0.0</td><td>7.07</td><td>0</td><td>0.469</td><td>6.421</td><td>78.9</td><td>4.9671</td><td>2</td><td>242</td></tr><tr><th>3</th><td>0.02729</td><td>0.0</td><td>7.07</td><td>0</td><td>0.469</td><td>7.185</td><td>61.1</td><td>4.9671</td><td>2</td><td>242</td></tr><tr><th>4</th><td>0.03237</td><td>0.0</td><td>2.18</td><td>0</td><td>0.458</td><td>6.998</td><td>45.8</td><td>6.0622</td><td>3</td><td>222</td></tr><tr><th>5</th><td>0.06905</td><td>0.0</td><td>2.18</td><td>0</td><td>0.458</td><td>7.147</td><td>54.2</td><td>6.0622</td><td>3</td><td>222</td></tr><tr><th>6</th><td>0.02985</td><td>0.0</td><td>2.18</td><td>0</td><td>0.458</td><td>6.43</td><td>58.7</td><td>6.0622</td><td>3</td><td>222</td></tr><tr><th>7</th><td>0.08829</td><td>12.5</td><td>7.87</td><td>0</td><td>0.524</td><td>6.012</td><td>66.6</td><td>5.5605</td><td>5</td><td>311</td></tr><tr><th>8</th><td>0.14455</td><td>12.5</td><td>7.87</td><td>0</td><td>0.524</td><td>6.172</td><td>96.1</td><td>5.9505</td><td>5</td><td>311</td></tr><tr><th>9</th><td>0.21124</td><td>12.5</td><td>7.87</td><td>0</td><td>0.524</td><td>5.631</td><td>100.0</td><td>6.0821</td><td>5</td><td>311</td></tr><tr><th>10</th><td>0.17004</td><td>12.5</td><td>7.87</td><td>0</td><td>0.524</td><td>6.004</td><td>85.9</td><td>6.5921</td><td>5</td><td>311</td></tr></tbody></table>"
      ],
      "text/latex": [
       "\\begin{tabular}{r|ccccccccccc}\n",
       "\t& Crim & Zn & Indus & Chas & NOx & Rm & Age & Dis & Rad & Tax & \\\\\n",
       "\t\\hline\n",
       "\t& Float64 & Float64 & Float64 & Int64 & Float64 & Float64 & Float64 & Float64 & Int64 & Int64 & \\\\\n",
       "\t\\hline\n",
       "\t1 & 0.00632 & 18.0 & 2.31 & 0 & 0.538 & 6.575 & 65.2 & 4.09 & 1 & 296 & $\\dots$ \\\\\n",
       "\t2 & 0.02731 & 0.0 & 7.07 & 0 & 0.469 & 6.421 & 78.9 & 4.9671 & 2 & 242 & $\\dots$ \\\\\n",
       "\t3 & 0.02729 & 0.0 & 7.07 & 0 & 0.469 & 7.185 & 61.1 & 4.9671 & 2 & 242 & $\\dots$ \\\\\n",
       "\t4 & 0.03237 & 0.0 & 2.18 & 0 & 0.458 & 6.998 & 45.8 & 6.0622 & 3 & 222 & $\\dots$ \\\\\n",
       "\t5 & 0.06905 & 0.0 & 2.18 & 0 & 0.458 & 7.147 & 54.2 & 6.0622 & 3 & 222 & $\\dots$ \\\\\n",
       "\t6 & 0.02985 & 0.0 & 2.18 & 0 & 0.458 & 6.43 & 58.7 & 6.0622 & 3 & 222 & $\\dots$ \\\\\n",
       "\t7 & 0.08829 & 12.5 & 7.87 & 0 & 0.524 & 6.012 & 66.6 & 5.5605 & 5 & 311 & $\\dots$ \\\\\n",
       "\t8 & 0.14455 & 12.5 & 7.87 & 0 & 0.524 & 6.172 & 96.1 & 5.9505 & 5 & 311 & $\\dots$ \\\\\n",
       "\t9 & 0.21124 & 12.5 & 7.87 & 0 & 0.524 & 5.631 & 100.0 & 6.0821 & 5 & 311 & $\\dots$ \\\\\n",
       "\t10 & 0.17004 & 12.5 & 7.87 & 0 & 0.524 & 6.004 & 85.9 & 6.5921 & 5 & 311 & $\\dots$ \\\\\n",
       "\\end{tabular}\n"
      ],
      "text/plain": [
       "10×14 DataFrame. Omitted printing of 7 columns\n",
       "│ Row │ Crim    │ Zn      │ Indus   │ Chas  │ NOx     │ Rm      │ Age     │\n",
       "│     │ \u001b[90mFloat64\u001b[39m │ \u001b[90mFloat64\u001b[39m │ \u001b[90mFloat64\u001b[39m │ \u001b[90mInt64\u001b[39m │ \u001b[90mFloat64\u001b[39m │ \u001b[90mFloat64\u001b[39m │ \u001b[90mFloat64\u001b[39m │\n",
       "├─────┼─────────┼─────────┼─────────┼───────┼─────────┼─────────┼─────────┤\n",
       "│ 1   │ 0.00632 │ 18.0    │ 2.31    │ 0     │ 0.538   │ 6.575   │ 65.2    │\n",
       "│ 2   │ 0.02731 │ 0.0     │ 7.07    │ 0     │ 0.469   │ 6.421   │ 78.9    │\n",
       "│ 3   │ 0.02729 │ 0.0     │ 7.07    │ 0     │ 0.469   │ 7.185   │ 61.1    │\n",
       "│ 4   │ 0.03237 │ 0.0     │ 2.18    │ 0     │ 0.458   │ 6.998   │ 45.8    │\n",
       "│ 5   │ 0.06905 │ 0.0     │ 2.18    │ 0     │ 0.458   │ 7.147   │ 54.2    │\n",
       "│ 6   │ 0.02985 │ 0.0     │ 2.18    │ 0     │ 0.458   │ 6.43    │ 58.7    │\n",
       "│ 7   │ 0.08829 │ 12.5    │ 7.87    │ 0     │ 0.524   │ 6.012   │ 66.6    │\n",
       "│ 8   │ 0.14455 │ 12.5    │ 7.87    │ 0     │ 0.524   │ 6.172   │ 96.1    │\n",
       "│ 9   │ 0.21124 │ 12.5    │ 7.87    │ 0     │ 0.524   │ 5.631   │ 100.0   │\n",
       "│ 10  │ 0.17004 │ 12.5    │ 7.87    │ 0     │ 0.524   │ 6.004   │ 85.9    │"
      ]
     },
     "execution_count": 2,
     "metadata": {},
     "output_type": "execute_result"
    }
   ],
   "source": [
    "boston = dataset(\"MASS\", \"Boston\")\n",
    "first(boston, 10)"
   ]
  },
  {
   "cell_type": "code",
   "execution_count": 5,
   "metadata": {},
   "outputs": [
    {
     "name": "stdout",
     "output_type": "stream",
     "text": [
      "[:Crim, :Zn, :Indus, :Chas, :NOx, :Rm, :Age, :Dis, :Rad, :Tax, :PTRatio, :Black, :LStat, :MedV]"
     ]
    }
   ],
   "source": [
    "show(names(boston))"
   ]
  },
  {
   "cell_type": "code",
   "execution_count": 6,
   "metadata": {},
   "outputs": [],
   "source": [
    "indecies = MLDataUtils.shuffleobs(collect(1:nrow(boston)))\n",
    "train_ind, test_ind = MLDataUtils.splitobs(indecies, at = 0.8);"
   ]
  },
  {
   "cell_type": "code",
   "execution_count": 7,
   "metadata": {},
   "outputs": [
    {
     "data": {
      "text/html": [
       "<table class=\"data-frame\"><thead><tr><th></th><th>Crim</th><th>Zn</th><th>Indus</th><th>Chas</th><th>NOx</th><th>Rm</th><th>Age</th><th>Dis</th><th>Rad</th><th>Tax</th></tr><tr><th></th><th>Float64</th><th>Float64</th><th>Float64</th><th>Int64</th><th>Float64</th><th>Float64</th><th>Float64</th><th>Float64</th><th>Int64</th><th>Int64</th></tr></thead><tbody><p>101 rows × 14 columns (omitted printing of 4 columns)</p><tr><th>1</th><td>9.39063</td><td>0.0</td><td>18.1</td><td>0</td><td>0.74</td><td>5.627</td><td>93.9</td><td>1.8172</td><td>24</td><td>666</td></tr><tr><th>2</th><td>0.75026</td><td>0.0</td><td>8.14</td><td>0</td><td>0.538</td><td>5.924</td><td>94.1</td><td>4.3996</td><td>4</td><td>307</td></tr><tr><th>3</th><td>0.03768</td><td>80.0</td><td>1.52</td><td>0</td><td>0.404</td><td>7.274</td><td>38.3</td><td>7.309</td><td>2</td><td>329</td></tr><tr><th>4</th><td>0.29819</td><td>0.0</td><td>6.2</td><td>0</td><td>0.504</td><td>7.686</td><td>17.0</td><td>3.3751</td><td>8</td><td>307</td></tr><tr><th>5</th><td>0.05644</td><td>40.0</td><td>6.41</td><td>1</td><td>0.447</td><td>6.758</td><td>32.9</td><td>4.0776</td><td>4</td><td>254</td></tr><tr><th>6</th><td>0.03932</td><td>0.0</td><td>3.41</td><td>0</td><td>0.489</td><td>6.405</td><td>73.9</td><td>3.0921</td><td>2</td><td>270</td></tr><tr><th>7</th><td>0.16902</td><td>0.0</td><td>25.65</td><td>0</td><td>0.581</td><td>5.986</td><td>88.4</td><td>1.9929</td><td>2</td><td>188</td></tr><tr><th>8</th><td>4.64689</td><td>0.0</td><td>18.1</td><td>0</td><td>0.614</td><td>6.98</td><td>67.6</td><td>2.5329</td><td>24</td><td>666</td></tr><tr><th>9</th><td>5.20177</td><td>0.0</td><td>18.1</td><td>1</td><td>0.77</td><td>6.127</td><td>83.4</td><td>2.7227</td><td>24</td><td>666</td></tr><tr><th>10</th><td>8.24809</td><td>0.0</td><td>18.1</td><td>0</td><td>0.713</td><td>7.393</td><td>99.3</td><td>2.4527</td><td>24</td><td>666</td></tr><tr><th>11</th><td>0.0578</td><td>0.0</td><td>2.46</td><td>0</td><td>0.488</td><td>6.98</td><td>58.4</td><td>2.829</td><td>3</td><td>193</td></tr><tr><th>12</th><td>0.3494</td><td>0.0</td><td>9.9</td><td>0</td><td>0.544</td><td>5.972</td><td>76.7</td><td>3.1025</td><td>4</td><td>304</td></tr><tr><th>13</th><td>0.0187</td><td>85.0</td><td>4.15</td><td>0</td><td>0.429</td><td>6.516</td><td>27.7</td><td>8.5353</td><td>4</td><td>351</td></tr><tr><th>14</th><td>3.69695</td><td>0.0</td><td>18.1</td><td>0</td><td>0.718</td><td>4.963</td><td>91.4</td><td>1.7523</td><td>24</td><td>666</td></tr><tr><th>15</th><td>1.42502</td><td>0.0</td><td>19.58</td><td>0</td><td>0.871</td><td>6.51</td><td>100.0</td><td>1.7659</td><td>5</td><td>403</td></tr><tr><th>16</th><td>0.67191</td><td>0.0</td><td>8.14</td><td>0</td><td>0.538</td><td>5.813</td><td>90.3</td><td>4.682</td><td>4</td><td>307</td></tr><tr><th>17</th><td>0.08014</td><td>0.0</td><td>5.96</td><td>0</td><td>0.499</td><td>5.85</td><td>41.5</td><td>3.9342</td><td>5</td><td>279</td></tr><tr><th>18</th><td>0.76162</td><td>20.0</td><td>3.97</td><td>0</td><td>0.647</td><td>5.56</td><td>62.8</td><td>1.9865</td><td>5</td><td>264</td></tr><tr><th>19</th><td>9.92485</td><td>0.0</td><td>18.1</td><td>0</td><td>0.74</td><td>6.251</td><td>96.6</td><td>2.198</td><td>24</td><td>666</td></tr><tr><th>20</th><td>0.17331</td><td>0.0</td><td>9.69</td><td>0</td><td>0.585</td><td>5.707</td><td>54.0</td><td>2.3817</td><td>6</td><td>391</td></tr><tr><th>21</th><td>0.01501</td><td>90.0</td><td>1.21</td><td>1</td><td>0.401</td><td>7.923</td><td>24.8</td><td>5.885</td><td>1</td><td>198</td></tr><tr><th>22</th><td>0.01301</td><td>35.0</td><td>1.52</td><td>0</td><td>0.442</td><td>7.241</td><td>49.3</td><td>7.0379</td><td>1</td><td>284</td></tr><tr><th>23</th><td>0.07022</td><td>0.0</td><td>4.05</td><td>0</td><td>0.51</td><td>6.02</td><td>47.2</td><td>3.5549</td><td>5</td><td>296</td></tr><tr><th>24</th><td>0.13554</td><td>12.5</td><td>6.07</td><td>0</td><td>0.409</td><td>5.594</td><td>36.8</td><td>6.498</td><td>4</td><td>345</td></tr><tr><th>25</th><td>0.19539</td><td>0.0</td><td>10.81</td><td>0</td><td>0.413</td><td>6.245</td><td>6.2</td><td>5.2873</td><td>4</td><td>305</td></tr><tr><th>26</th><td>0.03113</td><td>0.0</td><td>4.39</td><td>0</td><td>0.442</td><td>6.014</td><td>48.5</td><td>8.0136</td><td>3</td><td>352</td></tr><tr><th>27</th><td>0.82526</td><td>20.0</td><td>3.97</td><td>0</td><td>0.647</td><td>7.327</td><td>94.5</td><td>2.0788</td><td>5</td><td>264</td></tr><tr><th>28</th><td>45.7461</td><td>0.0</td><td>18.1</td><td>0</td><td>0.693</td><td>4.519</td><td>100.0</td><td>1.6582</td><td>24</td><td>666</td></tr><tr><th>29</th><td>0.05646</td><td>0.0</td><td>12.83</td><td>0</td><td>0.437</td><td>6.232</td><td>53.7</td><td>5.0141</td><td>5</td><td>398</td></tr><tr><th>30</th><td>0.03427</td><td>0.0</td><td>5.19</td><td>0</td><td>0.515</td><td>5.869</td><td>46.3</td><td>5.2311</td><td>5</td><td>224</td></tr><tr><th>&vellip;</th><td>&vellip;</td><td>&vellip;</td><td>&vellip;</td><td>&vellip;</td><td>&vellip;</td><td>&vellip;</td><td>&vellip;</td><td>&vellip;</td><td>&vellip;</td><td>&vellip;</td></tr></tbody></table>"
      ],
      "text/latex": [
       "\\begin{tabular}{r|ccccccccccc}\n",
       "\t& Crim & Zn & Indus & Chas & NOx & Rm & Age & Dis & Rad & Tax & \\\\\n",
       "\t\\hline\n",
       "\t& Float64 & Float64 & Float64 & Int64 & Float64 & Float64 & Float64 & Float64 & Int64 & Int64 & \\\\\n",
       "\t\\hline\n",
       "\t1 & 9.39063 & 0.0 & 18.1 & 0 & 0.74 & 5.627 & 93.9 & 1.8172 & 24 & 666 & $\\dots$ \\\\\n",
       "\t2 & 0.75026 & 0.0 & 8.14 & 0 & 0.538 & 5.924 & 94.1 & 4.3996 & 4 & 307 & $\\dots$ \\\\\n",
       "\t3 & 0.03768 & 80.0 & 1.52 & 0 & 0.404 & 7.274 & 38.3 & 7.309 & 2 & 329 & $\\dots$ \\\\\n",
       "\t4 & 0.29819 & 0.0 & 6.2 & 0 & 0.504 & 7.686 & 17.0 & 3.3751 & 8 & 307 & $\\dots$ \\\\\n",
       "\t5 & 0.05644 & 40.0 & 6.41 & 1 & 0.447 & 6.758 & 32.9 & 4.0776 & 4 & 254 & $\\dots$ \\\\\n",
       "\t6 & 0.03932 & 0.0 & 3.41 & 0 & 0.489 & 6.405 & 73.9 & 3.0921 & 2 & 270 & $\\dots$ \\\\\n",
       "\t7 & 0.16902 & 0.0 & 25.65 & 0 & 0.581 & 5.986 & 88.4 & 1.9929 & 2 & 188 & $\\dots$ \\\\\n",
       "\t8 & 4.64689 & 0.0 & 18.1 & 0 & 0.614 & 6.98 & 67.6 & 2.5329 & 24 & 666 & $\\dots$ \\\\\n",
       "\t9 & 5.20177 & 0.0 & 18.1 & 1 & 0.77 & 6.127 & 83.4 & 2.7227 & 24 & 666 & $\\dots$ \\\\\n",
       "\t10 & 8.24809 & 0.0 & 18.1 & 0 & 0.713 & 7.393 & 99.3 & 2.4527 & 24 & 666 & $\\dots$ \\\\\n",
       "\t11 & 0.0578 & 0.0 & 2.46 & 0 & 0.488 & 6.98 & 58.4 & 2.829 & 3 & 193 & $\\dots$ \\\\\n",
       "\t12 & 0.3494 & 0.0 & 9.9 & 0 & 0.544 & 5.972 & 76.7 & 3.1025 & 4 & 304 & $\\dots$ \\\\\n",
       "\t13 & 0.0187 & 85.0 & 4.15 & 0 & 0.429 & 6.516 & 27.7 & 8.5353 & 4 & 351 & $\\dots$ \\\\\n",
       "\t14 & 3.69695 & 0.0 & 18.1 & 0 & 0.718 & 4.963 & 91.4 & 1.7523 & 24 & 666 & $\\dots$ \\\\\n",
       "\t15 & 1.42502 & 0.0 & 19.58 & 0 & 0.871 & 6.51 & 100.0 & 1.7659 & 5 & 403 & $\\dots$ \\\\\n",
       "\t16 & 0.67191 & 0.0 & 8.14 & 0 & 0.538 & 5.813 & 90.3 & 4.682 & 4 & 307 & $\\dots$ \\\\\n",
       "\t17 & 0.08014 & 0.0 & 5.96 & 0 & 0.499 & 5.85 & 41.5 & 3.9342 & 5 & 279 & $\\dots$ \\\\\n",
       "\t18 & 0.76162 & 20.0 & 3.97 & 0 & 0.647 & 5.56 & 62.8 & 1.9865 & 5 & 264 & $\\dots$ \\\\\n",
       "\t19 & 9.92485 & 0.0 & 18.1 & 0 & 0.74 & 6.251 & 96.6 & 2.198 & 24 & 666 & $\\dots$ \\\\\n",
       "\t20 & 0.17331 & 0.0 & 9.69 & 0 & 0.585 & 5.707 & 54.0 & 2.3817 & 6 & 391 & $\\dots$ \\\\\n",
       "\t21 & 0.01501 & 90.0 & 1.21 & 1 & 0.401 & 7.923 & 24.8 & 5.885 & 1 & 198 & $\\dots$ \\\\\n",
       "\t22 & 0.01301 & 35.0 & 1.52 & 0 & 0.442 & 7.241 & 49.3 & 7.0379 & 1 & 284 & $\\dots$ \\\\\n",
       "\t23 & 0.07022 & 0.0 & 4.05 & 0 & 0.51 & 6.02 & 47.2 & 3.5549 & 5 & 296 & $\\dots$ \\\\\n",
       "\t24 & 0.13554 & 12.5 & 6.07 & 0 & 0.409 & 5.594 & 36.8 & 6.498 & 4 & 345 & $\\dots$ \\\\\n",
       "\t25 & 0.19539 & 0.0 & 10.81 & 0 & 0.413 & 6.245 & 6.2 & 5.2873 & 4 & 305 & $\\dots$ \\\\\n",
       "\t26 & 0.03113 & 0.0 & 4.39 & 0 & 0.442 & 6.014 & 48.5 & 8.0136 & 3 & 352 & $\\dots$ \\\\\n",
       "\t27 & 0.82526 & 20.0 & 3.97 & 0 & 0.647 & 7.327 & 94.5 & 2.0788 & 5 & 264 & $\\dots$ \\\\\n",
       "\t28 & 45.7461 & 0.0 & 18.1 & 0 & 0.693 & 4.519 & 100.0 & 1.6582 & 24 & 666 & $\\dots$ \\\\\n",
       "\t29 & 0.05646 & 0.0 & 12.83 & 0 & 0.437 & 6.232 & 53.7 & 5.0141 & 5 & 398 & $\\dots$ \\\\\n",
       "\t30 & 0.03427 & 0.0 & 5.19 & 0 & 0.515 & 5.869 & 46.3 & 5.2311 & 5 & 224 & $\\dots$ \\\\\n",
       "\t$\\dots$ & $\\dots$ & $\\dots$ & $\\dots$ & $\\dots$ & $\\dots$ & $\\dots$ & $\\dots$ & $\\dots$ & $\\dots$ & $\\dots$ &  \\\\\n",
       "\\end{tabular}\n"
      ],
      "text/plain": [
       "101×14 DataFrame. Omitted printing of 7 columns\n",
       "│ Row │ Crim    │ Zn      │ Indus   │ Chas  │ NOx     │ Rm      │ Age     │\n",
       "│     │ \u001b[90mFloat64\u001b[39m │ \u001b[90mFloat64\u001b[39m │ \u001b[90mFloat64\u001b[39m │ \u001b[90mInt64\u001b[39m │ \u001b[90mFloat64\u001b[39m │ \u001b[90mFloat64\u001b[39m │ \u001b[90mFloat64\u001b[39m │\n",
       "├─────┼─────────┼─────────┼─────────┼───────┼─────────┼─────────┼─────────┤\n",
       "│ 1   │ 9.39063 │ 0.0     │ 18.1    │ 0     │ 0.74    │ 5.627   │ 93.9    │\n",
       "│ 2   │ 0.75026 │ 0.0     │ 8.14    │ 0     │ 0.538   │ 5.924   │ 94.1    │\n",
       "│ 3   │ 0.03768 │ 80.0    │ 1.52    │ 0     │ 0.404   │ 7.274   │ 38.3    │\n",
       "│ 4   │ 0.29819 │ 0.0     │ 6.2     │ 0     │ 0.504   │ 7.686   │ 17.0    │\n",
       "│ 5   │ 0.05644 │ 40.0    │ 6.41    │ 1     │ 0.447   │ 6.758   │ 32.9    │\n",
       "│ 6   │ 0.03932 │ 0.0     │ 3.41    │ 0     │ 0.489   │ 6.405   │ 73.9    │\n",
       "│ 7   │ 0.16902 │ 0.0     │ 25.65   │ 0     │ 0.581   │ 5.986   │ 88.4    │\n",
       "│ 8   │ 4.64689 │ 0.0     │ 18.1    │ 0     │ 0.614   │ 6.98    │ 67.6    │\n",
       "│ 9   │ 5.20177 │ 0.0     │ 18.1    │ 1     │ 0.77    │ 6.127   │ 83.4    │\n",
       "│ 10  │ 8.24809 │ 0.0     │ 18.1    │ 0     │ 0.713   │ 7.393   │ 99.3    │\n",
       "⋮\n",
       "│ 91  │ 41.5292 │ 0.0     │ 18.1    │ 0     │ 0.693   │ 5.531   │ 85.4    │\n",
       "│ 92  │ 0.40202 │ 0.0     │ 9.9     │ 0     │ 0.544   │ 6.382   │ 67.2    │\n",
       "│ 93  │ 0.06905 │ 0.0     │ 2.18    │ 0     │ 0.458   │ 7.147   │ 54.2    │\n",
       "│ 94  │ 1.38799 │ 0.0     │ 8.14    │ 0     │ 0.538   │ 5.95    │ 82.0    │\n",
       "│ 95  │ 0.54452 │ 0.0     │ 21.89   │ 0     │ 0.624   │ 6.151   │ 97.9    │\n",
       "│ 96  │ 0.05515 │ 33.0    │ 2.18    │ 0     │ 0.472   │ 7.236   │ 41.1    │\n",
       "│ 97  │ 4.22239 │ 0.0     │ 18.1    │ 1     │ 0.77    │ 5.803   │ 89.0    │\n",
       "│ 98  │ 0.02731 │ 0.0     │ 7.07    │ 0     │ 0.469   │ 6.421   │ 78.9    │\n",
       "│ 99  │ 15.1772 │ 0.0     │ 18.1    │ 0     │ 0.74    │ 6.152   │ 100.0   │\n",
       "│ 100 │ 0.06724 │ 0.0     │ 3.24    │ 0     │ 0.46    │ 6.333   │ 17.2    │\n",
       "│ 101 │ 16.8118 │ 0.0     │ 18.1    │ 0     │ 0.7     │ 5.277   │ 98.1    │"
      ]
     },
     "execution_count": 7,
     "metadata": {},
     "output_type": "execute_result"
    }
   ],
   "source": [
    "train = boston[train_ind, :]\n",
    "test = boston[test_ind, :]"
   ]
  },
  {
   "cell_type": "code",
   "execution_count": 9,
   "metadata": {},
   "outputs": [
    {
     "data": {
      "text/plain": [
       "StatsModels.TableRegressionModel{LinearModel{GLM.LmResp{Array{Float64,1}},GLM.DensePredChol{Float64,LinearAlgebra.Cholesky{Float64,Array{Float64,2}}}},Array{Float64,2}}\n",
       "\n",
       "MedV ~ 1 + Crim + Chas + NOx + Rm + Dis + Rad + Tax + PTRatio + Black + LStat\n",
       "\n",
       "Coefficients:\n",
       "────────────────────────────────────────────────────────────────────────────────────\n",
       "                Estimate  Std. Error   t value  Pr(>|t|)     Lower 95%     Upper 95%\n",
       "────────────────────────────────────────────────────────────────────────────────────\n",
       "(Intercept)   37.5277     5.77327      6.50024    <1e-9    26.1774       48.8779\n",
       "Crim          -0.102375   0.0367889   -2.78276    0.0056   -0.174702     -0.0300476\n",
       "Chas           1.91419    1.03269      1.85359    0.0645   -0.116086      3.94446\n",
       "NOx          -18.2074     4.07307     -4.47019    <1e-4   -26.2151      -10.1997\n",
       "Rm             3.96705    0.455283     8.71336    <1e-16    3.07196       4.86214\n",
       "Dis           -1.22637    0.186626    -6.57129    <1e-9    -1.59328      -0.859467\n",
       "Rad            0.28832    0.0775308    3.71878    0.0002    0.135894      0.440746\n",
       "Tax           -0.0095075  0.00416242  -2.28413    0.0229   -0.0176908    -0.00132417\n",
       "PTRatio       -1.13183    0.140407    -8.06107    <1e-14   -1.40787      -0.855792\n",
       "Black          0.0105503  0.0030928    3.41124    0.0007    0.00446983    0.0166308\n",
       "LStat         -0.531276   0.0558954   -9.50483    <1e-18   -0.641167     -0.421386\n",
       "────────────────────────────────────────────────────────────────────────────────────"
      ]
     },
     "execution_count": 9,
     "metadata": {},
     "output_type": "execute_result"
    }
   ],
   "source": [
    "model = lm(@formula(MedV ~ Crim + Chas + NOx + Rm + Dis + Rad + Tax + PTRatio + Black + LStat), train)"
   ]
  },
  {
   "cell_type": "code",
   "execution_count": 10,
   "metadata": {},
   "outputs": [
    {
     "data": {
      "text/plain": [
       "101-element Array{Float64,1}:\n",
       " 418031.96542974963\n",
       "      6.763128355134241e6\n",
       "      5.1188085563323994e14\n",
       "      5.626768268642852e15\n",
       "      7.38868421296521e14\n",
       "      1.3029965836087556e12\n",
       "      2.4022402414069705e9\n",
       "      1.841981709341879e11\n",
       "      2.5368655590115633e9\n",
       "      8.127261575411341e9\n",
       "      2.75687597112922e14\n",
       "      2.156541305320977e10\n",
       "      1.4746406432390396e10\n",
       "      ⋮\n",
       "      5.994520580925901e8\n",
       "   1455.477667840884\n",
       "      5.176880558113278e10\n",
       "      4.1094304803199185e12\n",
       "   4909.918017092408\n",
       "      7.641184327859873e6\n",
       "      1.0187398066028836e14\n",
       "      2.5233026671221086e8\n",
       "      1.6467500246065417e11\n",
       "   4141.9315003758675\n",
       "      1.7182320300240747e11\n",
       "   2416.358578709634"
      ]
     },
     "execution_count": 10,
     "metadata": {},
     "output_type": "execute_result"
    }
   ],
   "source": [
    "exp.(predict(model, test))"
   ]
  },
  {
   "cell_type": "code",
   "execution_count": 11,
   "metadata": {},
   "outputs": [
    {
     "data": {
      "text/plain": [
       "0.7120752515986848"
      ]
     },
     "execution_count": 11,
     "metadata": {},
     "output_type": "execute_result"
    }
   ],
   "source": [
    "adjr²(model)"
   ]
  },
  {
   "cell_type": "code",
   "execution_count": 12,
   "metadata": {},
   "outputs": [
    {
     "data": {
      "text/plain": [
       "0.7192021018066381"
      ]
     },
     "execution_count": 12,
     "metadata": {},
     "output_type": "execute_result"
    }
   ],
   "source": [
    "r²(model)"
   ]
  },
  {
   "cell_type": "code",
   "execution_count": null,
   "metadata": {},
   "outputs": [],
   "source": []
  }
 ],
 "metadata": {
  "kernelspec": {
   "display_name": "Julia 1.4.0",
   "language": "julia",
   "name": "julia-1.4"
  },
  "language_info": {
   "file_extension": ".jl",
   "mimetype": "application/julia",
   "name": "julia",
   "version": "1.4.0"
  }
 },
 "nbformat": 4,
 "nbformat_minor": 4
}
